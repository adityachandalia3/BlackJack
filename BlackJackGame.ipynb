{
 "cells": [
  {
   "cell_type": "code",
   "execution_count": 11,
   "metadata": {},
   "outputs": [],
   "source": [
    "import random \n",
    "suits = ('Hearts', 'Diamonds', 'Spades', 'Clubs')\n",
    "ranks = ('Two', 'Three', 'Four', 'Five', 'Six', 'Seven', 'Eight', 'Nine', 'Ten', 'Jack', 'Queen', 'King', 'Ace')\n",
    "values = {'Two':2, 'Three':3, 'Four':4, 'Five':5, 'Six':6, 'Seven':7, 'Eight':8, 'Nine':9, 'Ten':10, 'Jack':10,\n",
    "         'Queen':10, 'King':10, 'Ace':11}"
   ]
  },
  {
   "cell_type": "code",
   "execution_count": 12,
   "metadata": {},
   "outputs": [],
   "source": [
    "class Chips():\n",
    "    def __init__(self):\n",
    "        self.total = 100\n",
    "        self.bet = 0\n",
    "    \n",
    "    def win(self):\n",
    "        self.total = self.total + (self.bet*2)\n",
    "        print(f\"Congratulations on your win. Your total now stands at {self.total}\")\n",
    "    \n",
    "    def lose(self):\n",
    "        self.total = self.total - self.bet\n",
    "        print(f\"Sorry for your loss. Your total now stands at {self.total}\")"
   ]
  },
  {
   "cell_type": "code",
   "execution_count": 13,
   "metadata": {},
   "outputs": [],
   "source": [
    "class Card():\n",
    "    \n",
    "    def __init__(self,suit,rank):\n",
    "        self.suit = suit\n",
    "        self.rank = rank\n",
    "\n",
    "    def __str__(self):\n",
    "        return (f'{self.rank} of {self.suit}') "
   ]
  },
  {
   "cell_type": "code",
   "execution_count": 14,
   "metadata": {},
   "outputs": [],
   "source": [
    "class Deck():\n",
    "    \n",
    "    def __init__(self):\n",
    "        self.deck = []\n",
    "        for s in suits:\n",
    "            for r in ranks:\n",
    "                self.deck.append((Card(s,r)))\n",
    "        \n",
    "    def shuffle(self):\n",
    "        self.shuffleddeck = random.shuffle(self.deck)\n",
    "    \n",
    "    def deal(self):\n",
    "        return self.deck.pop()      \n",
    "    "
   ]
  },
  {
   "cell_type": "code",
   "execution_count": 15,
   "metadata": {},
   "outputs": [],
   "source": [
    "class Hand():\n",
    "    def __init__(self):\n",
    "        self.cards = []\n",
    "        self.value = 0\n",
    "        self.aces = 0\n",
    "    \n",
    "    def add_card(self,card):\n",
    "        self.cards.append(card)\n",
    "        self.value = self.value + values[card.rank]\n",
    "        if card.rank == 'Ace':\n",
    "            self.aces += 1  \n",
    "    \n",
    "    def adjust_for_ace(self):\n",
    "        while self.value > 21 and self.aces:\n",
    "            self.value -= 10\n",
    "            self.aces -= 1\n",
    "        \n",
    "        "
   ]
  },
  {
   "cell_type": "code",
   "execution_count": 16,
   "metadata": {},
   "outputs": [],
   "source": [
    "def take_bets(chips):\n",
    "    chips.bet = int(input(\"How many chips would you like to bet?\"))\n",
    "    while chips.bet > chips.total:\n",
    "        chips.bet = int(input(\"How many chips would you like to bet?\"))\n",
    "        return(f\"Your bets cant exceed {chips.total}\")\n",
    "            \n",
    "        \n",
    "    return (f\"You have bet {chips.bet} chips\")\n",
    "    "
   ]
  },
  {
   "cell_type": "code",
   "execution_count": 17,
   "metadata": {},
   "outputs": [],
   "source": [
    "def hit(deck,hand):\n",
    "    hand.add_card(deck.deal())\n",
    "    hand.adjust_for_ace()\n",
    "    "
   ]
  },
  {
   "cell_type": "code",
   "execution_count": null,
   "metadata": {},
   "outputs": [],
   "source": [
    "\n",
    "    "
   ]
  },
  {
   "cell_type": "code",
   "execution_count": 8,
   "metadata": {},
   "outputs": [],
   "source": [
    "def hit_or_stay(deck,hand):\n",
    "    global playing\n",
    "    while True:\n",
    "        decision = input(\"Do you want to hit or stay?\")\n",
    "        if decision.lower() == \"hit\":\n",
    "            hit(deck,hand)\n",
    "        elif decision.lower() == \"stay\":\n",
    "            print(\"Player stands. Dealer is playing.\")\n",
    "            playing = False\n",
    "        else:\n",
    "            print(\"Please enter a valid answer\")\n",
    "            continue\n",
    "        break\n",
    "       \n",
    "        \n",
    "            \n",
    "            "
   ]
  },
  {
   "cell_type": "code",
   "execution_count": 9,
   "metadata": {},
   "outputs": [],
   "source": [
    "def player_busts(chips):\n",
    "    print(\"\\n Player busts!\")\n",
    "    chips.lose()\n",
    "\n",
    "def player_wins(chips):\n",
    "    print(\"\\n Player wins!\")\n",
    "    chips.win()\n",
    "\n",
    "def dealer_busts(chips):\n",
    "    print(\"\\n Dealer busts!\")\n",
    "    chips.win()\n",
    "    \n",
    "def dealer_wins(chips):\n",
    "    print(\"\\n Dealer wins!\")\n",
    "    chips.lose()\n",
    "    \n",
    "def push():\n",
    "    print(\"\\n Dealer and Player tie! It's a push.\")"
   ]
  },
  {
   "cell_type": "code",
   "execution_count": 10,
   "metadata": {},
   "outputs": [
    {
     "name": "stdout",
     "output_type": "stream",
     "text": [
      "Welcome to the game of BlackJack. Get as close to 21 as you can without going over!\n",
      "        Dealer hits until she reaches 17. Aces count as 1 or 11\n"
     ]
    },
    {
     "name": "stdin",
     "output_type": "stream",
     "text": [
      "Please enter your name: Aditya\n",
      "How many chips would you like to bet? 30\n",
      "Are you ready to play Aditya. Enter Yes or No Yes\n"
     ]
    },
    {
     "name": "stdout",
     "output_type": "stream",
     "text": [
      "\n",
      "These are your cards Aditya\n",
      "Three of Diamonds\n",
      "Six of Clubs\n",
      "Value of cards: 9\n",
      "\n",
      "These are the dealer's cards\n",
      "<hidden card>\n",
      "Eight of Diamonds\n"
     ]
    },
    {
     "name": "stdin",
     "output_type": "stream",
     "text": [
      "Do you want to hit or stay? hit\n"
     ]
    },
    {
     "name": "stdout",
     "output_type": "stream",
     "text": [
      "\n",
      "These are your cards Aditya\n",
      "Three of Diamonds\n",
      "Six of Clubs\n",
      "Nine of Spades\n",
      "Value of cards: 18\n",
      "\n",
      "These are the dealer's cards\n",
      "<hidden card>\n",
      "Eight of Diamonds\n"
     ]
    },
    {
     "name": "stdin",
     "output_type": "stream",
     "text": [
      "Do you want to hit or stay? stay\n"
     ]
    },
    {
     "name": "stdout",
     "output_type": "stream",
     "text": [
      "Player stands. Dealer is playing.\n",
      "\n",
      "These are your cards Aditya\n",
      "Three of Diamonds\n",
      "Six of Clubs\n",
      "Nine of Spades\n",
      "Value of cards: 18\n",
      "\n",
      "These are the dealer's cards\n",
      "<hidden card>\n",
      "Eight of Diamonds\n"
     ]
    },
    {
     "name": "stdin",
     "output_type": "stream",
     "text": [
      "Do you want to play again? Press x for yes and o for no. x\n"
     ]
    },
    {
     "name": "stdout",
     "output_type": "stream",
     "text": [
      "Welcome to the game of BlackJack. Get as close to 21 as you can without going over!\n",
      "        Dealer hits until she reaches 17. Aces count as 1 or 11\n"
     ]
    },
    {
     "name": "stdin",
     "output_type": "stream",
     "text": [
      "Please enter your name: Aditya\n",
      "How many chips would you like to bet? 20\n",
      "Are you ready to play Aditya. Enter Yes or No Yes\n"
     ]
    },
    {
     "name": "stdout",
     "output_type": "stream",
     "text": [
      "\n",
      "These are your cards Aditya\n",
      "Ace of Diamonds\n",
      "Eight of Hearts\n",
      "Value of cards: 19\n",
      "\n",
      "These are the dealer's cards\n",
      "<hidden card>\n",
      "Two of Spades\n"
     ]
    },
    {
     "name": "stdin",
     "output_type": "stream",
     "text": [
      "Do you want to hit or stay? stay\n"
     ]
    },
    {
     "name": "stdout",
     "output_type": "stream",
     "text": [
      "Player stands. Dealer is playing.\n",
      "\n",
      "These are your cards Aditya\n",
      "Ace of Diamonds\n",
      "Eight of Hearts\n",
      "Value of cards: 19\n",
      "\n",
      "These are the dealer's cards\n",
      "<hidden card>\n",
      "Two of Spades\n",
      "\n",
      "Dealer hits!\n",
      "Eight of Diamonds\n",
      "Two of Spades\n",
      "Five of Diamonds\n",
      "Value of cards: 15\n",
      " Your card value was 19 and the dealer's card value was 15\n",
      "Aditya wins\n",
      "\n",
      "Dealer hits!\n",
      "Eight of Diamonds\n",
      "Two of Spades\n",
      "Five of Diamonds\n",
      "Three of Spades\n",
      "Value of cards: 18\n",
      " Your card value was 19 and the dealer's card value was 18\n",
      "Aditya wins\n"
     ]
    },
    {
     "name": "stdin",
     "output_type": "stream",
     "text": [
      "Do you want to play again? Press x for yes and o for no. x\n"
     ]
    },
    {
     "name": "stdout",
     "output_type": "stream",
     "text": [
      "Welcome to the game of BlackJack. Get as close to 21 as you can without going over!\n",
      "        Dealer hits until she reaches 17. Aces count as 1 or 11\n"
     ]
    },
    {
     "name": "stdin",
     "output_type": "stream",
     "text": [
      "Please enter your name: Aditya\n",
      "How many chips would you like to bet? 200\n",
      "How many chips would you like to bet? 200\n",
      "Are you ready to play Aditya. Enter Yes or No yes\n"
     ]
    },
    {
     "name": "stdout",
     "output_type": "stream",
     "text": [
      "\n",
      "These are your cards Aditya\n",
      "Ten of Hearts\n",
      "Ten of Spades\n",
      "Value of cards: 20\n",
      "\n",
      "These are the dealer's cards\n",
      "<hidden card>\n",
      "Seven of Hearts\n"
     ]
    },
    {
     "name": "stdin",
     "output_type": "stream",
     "text": [
      "Do you want to hit or stay? stay\n"
     ]
    },
    {
     "name": "stdout",
     "output_type": "stream",
     "text": [
      "Player stands. Dealer is playing.\n",
      "\n",
      "These are your cards Aditya\n",
      "Ten of Hearts\n",
      "Ten of Spades\n",
      "Value of cards: 20\n",
      "\n",
      "These are the dealer's cards\n",
      "<hidden card>\n",
      "Seven of Hearts\n",
      "\n",
      "Dealer hits!\n",
      "Jack of Clubs\n",
      "Seven of Hearts\n",
      "Eight of Clubs\n",
      "Value of cards: 25\n",
      " Your card value was 20 and the dealer's card value was 25\n",
      "\n",
      " Player wins!\n",
      "Congratulations on your win. Your total now stands at 500\n",
      "dealer busts!\n"
     ]
    },
    {
     "name": "stdin",
     "output_type": "stream",
     "text": [
      "Do you want to play again? Press x for yes and o for no. no\n"
     ]
    },
    {
     "name": "stdout",
     "output_type": "stream",
     "text": [
      "Welcome to the game of BlackJack. Get as close to 21 as you can without going over!\n",
      "        Dealer hits until she reaches 17. Aces count as 1 or 11\n"
     ]
    },
    {
     "name": "stdin",
     "output_type": "stream",
     "text": [
      "Please enter your name: Aditya Chandalia\n",
      "How many chips would you like to bet? 1000\n",
      "How many chips would you like to bet? 100\n",
      "Are you ready to play Aditya Chandalia. Enter Yes or No yes\n"
     ]
    },
    {
     "name": "stdout",
     "output_type": "stream",
     "text": [
      "\n",
      "These are your cards Aditya Chandalia\n",
      "King of Hearts\n",
      "Queen of Hearts\n",
      "Value of cards: 20\n",
      "\n",
      "These are the dealer's cards\n",
      "<hidden card>\n",
      "Seven of Hearts\n"
     ]
    },
    {
     "name": "stdin",
     "output_type": "stream",
     "text": [
      "Do you want to hit or stay? stay\n"
     ]
    },
    {
     "name": "stdout",
     "output_type": "stream",
     "text": [
      "Player stands. Dealer is playing.\n",
      "\n",
      "These are your cards Aditya Chandalia\n",
      "King of Hearts\n",
      "Queen of Hearts\n",
      "Value of cards: 20\n",
      "\n",
      "These are the dealer's cards\n",
      "<hidden card>\n",
      "Seven of Hearts\n",
      "\n",
      "Dealer hits!\n",
      "Nine of Spades\n",
      "Seven of Hearts\n",
      "Ten of Spades\n",
      "Value of cards: 26\n",
      " Your card value was 20 and the dealer's card value was 26\n",
      "\n",
      " Player wins!\n",
      "Congratulations on your win. Your total now stands at 300\n",
      "dealer busts!\n"
     ]
    },
    {
     "name": "stdin",
     "output_type": "stream",
     "text": [
      "Do you want to play again? Press x for yes and o for no. o\n"
     ]
    }
   ],
   "source": [
    "while True:\n",
    "    print(\"Welcome to the game of BlackJack. Get as close to 21 as you can without going over!\\n\\\n",
    "        Dealer hits until she reaches 17. Aces count as 1 or 11\")\n",
    "    name = input(\"Please enter your name:\")\n",
    "    player_chips = Chips()\n",
    "    take_bets(player_chips)\n",
    "    begin = str(input(f\"Are you ready to play {name}. Enter Yes or No\"))\n",
    "    if begin.lower() == \"yes\":\n",
    "\n",
    "        print(f\"\\nThese are your cards {name}\")\n",
    "        deck1 = Deck()\n",
    "        deck1.shuffle()\n",
    "        player_hand = Hand()\n",
    "        player_hand.add_card(deck1.deal())\n",
    "        player_hand.add_card(deck1.deal())   \n",
    "        for i in player_hand.cards:\n",
    "                print(i)\n",
    "        print(f\"Value of cards: {player_hand.value}\")\n",
    "\n",
    "\n",
    "        deck1.shuffle()\n",
    "        dealer_hand = Hand()\n",
    "        dealer_hand.add_card(deck1.deal())\n",
    "        dealer_hand.add_card(deck1.deal())\n",
    "        print(\"\\nThese are the dealer's cards\")\n",
    "        print(\"<hidden card>\")\n",
    "        print(dealer_hand.cards[1])\n",
    "        playing=True\n",
    "        while playing:\n",
    "\n",
    "            hit_or_stay(deck1,player_hand)\n",
    "            print(f\"\\nThese are your cards {name}\")\n",
    "            for i in player_hand.cards:\n",
    "                print(i)\n",
    "            print(f\"Value of cards: {player_hand.value}\")\n",
    "            print(\"\\nThese are the dealer's cards\")\n",
    "            print(\"<hidden card>\")\n",
    "            print(dealer_hand.cards[1])\n",
    "\n",
    "            if player_hand.value>21:\n",
    "                player_busts(player_chips)\n",
    "                print(\"Dealer wins!\")\n",
    "                playing = False\n",
    "\n",
    "            elif dealer_hand.value>player_hand.value and dealer_hand.value>17:\n",
    "                player_busts(player_chips)\n",
    "                print(\"Dealer wins!\")\n",
    "                playing = False \n",
    "\n",
    "            elif dealer_hand.value<player_hand.value and dealer_hand.value>17:\n",
    "                print(f\" Your card value was {player_hand.value} and the dealer's card value was {dealer_hand.value}\")\n",
    "                player_wins(player_chips)\n",
    "                print(\"dealer busts!\")\n",
    "                playing = False\n",
    "            else:\n",
    "                continue\n",
    "\n",
    "        while dealer_hand.value<=17 and player_hand.value<22:\n",
    "            hit(deck1,dealer_hand)\n",
    "            print(\"\\nDealer hits!\")\n",
    "            for j in dealer_hand.cards:\n",
    "                 print(j)\n",
    "            print(f\"Value of cards: {dealer_hand.value}\")\n",
    "\n",
    "            if dealer_hand.value>21 and player_hand.value<=21:\n",
    "                print(f\" Your card value was {player_hand.value} and the dealer's card value was {dealer_hand.value}\")\n",
    "                player_wins(player_chips)\n",
    "                print(\"dealer busts!\")\n",
    "                playing = False\n",
    "    \n",
    "\n",
    "\n",
    "            elif dealer_hand.value<=21 and player_hand.value>21:\n",
    "                print(f\" Your card value was {player_hand.value} and the dealer's card value was {dealer_hand.value}\")\n",
    "                player_busts(player_chips)\n",
    "                print(\"Dealer wins!\")\n",
    "                playing = False\n",
    "\n",
    "            elif (dealer_hand.value>21 and player_hand.value>21) or (dealer_hand.value == player_hand.value and dealer_hand.value<21 and player_hand.value<21):\n",
    "\n",
    "                print(f\" Your card value was {player_hand.value} and the dealer's card value was {dealer_hand.value}\")\n",
    "                push()\n",
    "                playing = False\n",
    "\n",
    "            elif dealer_hand.value>player_hand.value:\n",
    "                print(f\" Your card value was {player_hand.value} and the dealer's card value was {dealer_hand.value}\")\n",
    "                player_chips.lose()\n",
    "                print(\"Dealer wins!\")\n",
    "                playing = False\n",
    "\n",
    "            elif player_hand.value>dealer_hand.value:\n",
    "                print(f\" Your card value was {player_hand.value} and the dealer's card value was {dealer_hand.value}\")\n",
    "                print(f\"{name} wins\")\n",
    "                player_chips.win\n",
    "                playing = False\n",
    "                \n",
    "    \n",
    "    replay=input(\"Do you want to play again? Press x for yes and o for no.\")\n",
    "    if replay==\"x\":\n",
    "        playing = True\n",
    "    elif replay==\"o\":\n",
    "        playing = False\n",
    "        break\n",
    "\n",
    "\n",
    "\n",
    "\n",
    "\n",
    "\n",
    "\n",
    "\n",
    "\n",
    "\n",
    "\n",
    "\n",
    "\n",
    "\n",
    "\n",
    "\n",
    "\n",
    "\n"
   ]
  },
  {
   "cell_type": "code",
   "execution_count": null,
   "metadata": {},
   "outputs": [],
   "source": []
  },
  {
   "cell_type": "code",
   "execution_count": null,
   "metadata": {},
   "outputs": [],
   "source": []
  },
  {
   "cell_type": "code",
   "execution_count": null,
   "metadata": {},
   "outputs": [],
   "source": []
  },
  {
   "cell_type": "code",
   "execution_count": null,
   "metadata": {},
   "outputs": [],
   "source": []
  }
 ],
 "metadata": {
  "kernelspec": {
   "display_name": "Python 3",
   "language": "python",
   "name": "python3"
  },
  "language_info": {
   "codemirror_mode": {
    "name": "ipython",
    "version": 3
   },
   "file_extension": ".py",
   "mimetype": "text/x-python",
   "name": "python",
   "nbconvert_exporter": "python",
   "pygments_lexer": "ipython3",
   "version": "3.7.6"
  }
 },
 "nbformat": 4,
 "nbformat_minor": 4
}
